{
 "cells": [
  {
   "cell_type": "code",
   "execution_count": 3,
   "id": "00133f9c",
   "metadata": {},
   "outputs": [
    {
     "ename": "PyreadstatError",
     "evalue": "File C:/Users/Administrator/Downloads/GSS_sas/gss7221_r1b.sas7bdat does not exist!",
     "output_type": "error",
     "traceback": [
      "\u001b[1;31m---------------------------------------------------------------------------\u001b[0m",
      "\u001b[1;31mPyreadstatError\u001b[0m                           Traceback (most recent call last)",
      "\u001b[1;32mC:\\Users\\ADMINI~1\\AppData\\Local\\Temp/ipykernel_4912/3970432353.py\u001b[0m in \u001b[0;36m<module>\u001b[1;34m\u001b[0m\n\u001b[0;32m      4\u001b[0m \u001b[1;33m\u001b[0m\u001b[0m\n\u001b[0;32m      5\u001b[0m \u001b[1;31m#GSSpip install sas7bdat\u001b[0m\u001b[1;33m\u001b[0m\u001b[1;33m\u001b[0m\u001b[0m\n\u001b[1;32m----> 6\u001b[1;33m \u001b[0mgss_df\u001b[0m\u001b[1;33m,\u001b[0m \u001b[0mgss_meta\u001b[0m \u001b[1;33m=\u001b[0m \u001b[0mpyreadstat\u001b[0m\u001b[1;33m.\u001b[0m\u001b[0mread_sas7bdat\u001b[0m\u001b[1;33m(\u001b[0m\u001b[1;34m'C:/Users/Administrator/Downloads/GSS_sas/gss7221_r1b.sas7bdat'\u001b[0m\u001b[1;33m)\u001b[0m\u001b[1;33m\u001b[0m\u001b[1;33m\u001b[0m\u001b[0m\n\u001b[0m\u001b[0;32m      7\u001b[0m \u001b[1;32mimport\u001b[0m \u001b[0mpandas\u001b[0m \u001b[1;32mas\u001b[0m \u001b[0mpd\u001b[0m\u001b[1;33m\u001b[0m\u001b[1;33m\u001b[0m\u001b[0m\n\u001b[0;32m      8\u001b[0m \u001b[1;31m#gss_df = pd.read_sas(\"G:/My Drive/KU/Thesis/data/GSS_sas/gss7221_r1b.sas7bdat\", encoding='iso-8859-1')\u001b[0m\u001b[1;33m\u001b[0m\u001b[1;33m\u001b[0m\u001b[0m\n",
      "\u001b[1;32mpyreadstat\\pyreadstat.pyx\u001b[0m in \u001b[0;36mpyreadstat.pyreadstat.read_sas7bdat\u001b[1;34m()\u001b[0m\n",
      "\u001b[1;32mpyreadstat\\_readstat_parser.pyx\u001b[0m in \u001b[0;36mpyreadstat._readstat_parser.run_conversion\u001b[1;34m()\u001b[0m\n",
      "\u001b[1;31mPyreadstatError\u001b[0m: File C:/Users/Administrator/Downloads/GSS_sas/gss7221_r1b.sas7bdat does not exist!"
     ]
    }
   ],
   "source": [
    "import pyreadstat\n",
    "#ESS\n",
    "#ess_df, ess_meta = pyreadstat.read_sas7bdat('C:/Users/Administrator/Downloads/ESS1e06_6.sas/ess1e06_6.sas7bdat')\n",
    "\n",
    "#GSSpip install sas7bdat\n",
    "gss_df, gss_meta = pyreadstat.read_sas7bdat('C:/Users/Administrator/Downloads/GSS_sas/gss7221_r1b.sas7bdat')\n",
    "import pandas as pd\n",
    "#gss_df = pd.read_sas(\"G:/My Drive/KU/Thesis/data/GSS_sas/gss7221_r1b.sas7bdat\", encoding='iso-8859-1')\n"
   ]
  },
  {
   "cell_type": "code",
   "execution_count": null,
   "id": "de8124bc",
   "metadata": {},
   "outputs": [],
   "source": [
    "dir(meta)\n",
    "meta.column_names_to_labels\n",
    "essdf.rename(columns = meta.column_names_to_labels)\n",
    "meta.column_labels"
   ]
  }
 ],
 "metadata": {
  "kernelspec": {
   "display_name": "Python 3 (ipykernel)",
   "language": "python",
   "name": "python3"
  },
  "language_info": {
   "codemirror_mode": {
    "name": "ipython",
    "version": 3
   },
   "file_extension": ".py",
   "mimetype": "text/x-python",
   "name": "python",
   "nbconvert_exporter": "python",
   "pygments_lexer": "ipython3",
   "version": "3.9.7"
  }
 },
 "nbformat": 4,
 "nbformat_minor": 5
}
