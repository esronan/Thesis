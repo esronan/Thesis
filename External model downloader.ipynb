{
 "cells": [
  {
   "cell_type": "code",
   "execution_count": 1,
   "id": "1a478279",
   "metadata": {},
   "outputs": [],
   "source": [
    "import gensim.downloader as api"
   ]
  },
  {
   "cell_type": "code",
   "execution_count": 2,
   "id": "7168e627",
   "metadata": {},
   "outputs": [
    {
     "name": "stdout",
     "output_type": "stream",
     "text": [
      "[==================================================] 100.0% 387.1/387.1MB downloaded\n",
      "[==================================================] 100.0% 758.5/758.5MB downloaded\n",
      "[==================================================] 100.0% 199.5/199.5MB downloaded\n",
      "[==================================================] 100.0% 128.1/128.1MB downloaded\n",
      "[==================================================] 100.0% 252.1/252.1MB downloaded\n",
      "[==================================================] 100.0% 376.1/376.1MB downloaded\n",
      "[==================================================] 100.0% 66.0/66.0MB downloaded\n",
      "[==================================================] 100.0% 1662.8/1662.8MB downloaded\n"
     ]
    }
   ],
   "source": [
    "external_mods = ['conceptnet-numberbatch-17-06-300', 'fasttext-wiki-news-subwords-300', 'glove-twitter-100', 'glove-twitter-200', 'glove-twitter-25', 'glove-twitter-50', 'glove-wiki-gigaword-100', 'glove-wiki-gigaword-200', 'glove-wiki-gigaword-300', 'glove-wiki-gigaword-50', 'word2vec-google-news-300'] #'__testing_word2vec-matrix-synopsis',  'word2vec-ruscorpora-300' \n",
    "dirs = []\n",
    "complete = 1\n",
    "for mod in external_mods[complete:]:\n",
    "        dirs.append(api.load(mod, return_path=True))"
   ]
  }
 ],
 "metadata": {
  "kernelspec": {
   "display_name": "Python 3 (ipykernel)",
   "language": "python",
   "name": "python3"
  },
  "language_info": {
   "codemirror_mode": {
    "name": "ipython",
    "version": 3
   },
   "file_extension": ".py",
   "mimetype": "text/x-python",
   "name": "python",
   "nbconvert_exporter": "python",
   "pygments_lexer": "ipython3",
   "version": "3.9.7"
  }
 },
 "nbformat": 4,
 "nbformat_minor": 5
}
