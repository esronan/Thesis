{
 "cells": [
  {
   "cell_type": "code",
   "execution_count": 1,
   "id": "b71f0e99",
   "metadata": {},
   "outputs": [],
   "source": [
    "import os \n",
    "import numpy as np\n",
    "from gensim.models import KeyedVectors\n",
    "from gensim.test.utils import datapath, get_tmpfile\n",
    "from gensim.models import KeyedVectors\n",
    "from gensim.scripts.glove2word2vec import glove2word2vec\n"
   ]
  },
  {
   "cell_type": "code",
   "execution_count": 27,
   "id": "509803c2",
   "metadata": {},
   "outputs": [],
   "source": [
    "def txt2word2vec(glove_file, in_dir, out_dir):\n",
    "    '''Convert .txt file/GloVe format into word2vec KeyedVectors'''\n",
    "    print(f\"Converting {glove_file} to word2vec...\")\n",
    "    os.chdir(in_dir)\n",
    "    tmp_file = get_tmpfile(\"test_word2vec.txt\")\n",
    "\n",
    "    _ = glove2word2vec(glove_file, tmp_file)\n",
    "    model = KeyedVectors.load_word2vec_format(tmp_file)\n",
    "    model.save(out_dir + f\"{glove_file[:-4]}_model\")\n",
    "\n",
    "def pickle2txt(vocab_fil, vector_fil, in_dir, out_dir):\n",
    "    '''Convert original pkl and npy files into a .txt file'''\n",
    "    print(f\"Converting {vector_fil} to text...\")\n",
    "    #Change to raw file directory\n",
    "    os.chdir(in_dir)\n",
    "    #Load vocab and vectors\n",
    "    vocab = np.array(np.load(vocab_fil, allow_pickle=True)).reshape(100000,1)\n",
    "    vectors = np.load(vector_fil)\n",
    "    #stack vectors for saving\n",
    "    kv = np.hstack((vocab, vectors))\n",
    "    #save as text file\n",
    "    np.savetxt(out_dir + vector_fil[:-6] + \".txt\", kv, delimiter = \" \", fmt=\"%s\", encoding='utf-8')\n",
    "\n",
    "def iterate(in_dir, out_dir, version=\"histwords\"):\n",
    "    #For iterating through histwords files\n",
    "    if version == \"histwords\":\n",
    "        #get filenames\n",
    "        vector_files = [str(1900+10*i)+'-w.npy' for i in range(10)]\n",
    "        vocab_files = [str(1900+10*i)+'-vocab.pkl' for i in range(10)]\n",
    "        #run evaluator\n",
    "        for i in range(8,10):\n",
    "            pickle2txt(vocab_files[i], vector_files[i], in_dir, out_dir)\n",
    "            txt2word2vec(vector_files[i][:-6] + \".txt\", out_dir, out_dir)\n",
    "    #for iterating through the per year files\n",
    "    elif version == \"per_year\":\n",
    "        vector_files = [\"vectors-\" +str(1900+1*i)+'-ngram' for i in range(100)]\n",
    "        for i in range(100):\n",
    "            txtword2vec(vector_files[i][:-6], in_dir, out_dir)\n",
    "        "
   ]
  },
  {
   "cell_type": "code",
   "execution_count": 28,
   "id": "26a0cc1c",
   "metadata": {},
   "outputs": [
    {
     "name": "stdout",
     "output_type": "stream",
     "text": [
      "Converting 1980-w.npy to text...\n",
      "Converting 1980.txt to word2vec...\n"
     ]
    },
    {
     "name": "stderr",
     "output_type": "stream",
     "text": [
      "C:\\Users\\ADMINI~1\\AppData\\Local\\Temp/ipykernel_19184/4056953243.py:7: DeprecationWarning: Call to deprecated `glove2word2vec` (KeyedVectors.load_word2vec_format(.., binary=False, no_header=True) loads GLoVE text vectors.).\n",
      "  _ = glove2word2vec(glove_file, tmp_file)\n"
     ]
    },
    {
     "name": "stdout",
     "output_type": "stream",
     "text": [
      "Converting 1990-w.npy to text...\n",
      "Converting 1990.txt to word2vec...\n"
     ]
    },
    {
     "name": "stderr",
     "output_type": "stream",
     "text": [
      "C:\\Users\\ADMINI~1\\AppData\\Local\\Temp/ipykernel_19184/4056953243.py:7: DeprecationWarning: Call to deprecated `glove2word2vec` (KeyedVectors.load_word2vec_format(.., binary=False, no_header=True) loads GLoVE text vectors.).\n",
      "  _ = glove2word2vec(glove_file, tmp_file)\n"
     ]
    }
   ],
   "source": [
    "iterate(in_dir=\"G:/My Drive/KU/Thesis/others_code/eng-fiction-all/eng-fiction-all/sgns/\", out_dir=\"D:/google_ngrams/Vectors/histwords_engfic/\")\n",
    "#iterate(in_dir=\"G:/My Drive/KU/Thesis/others_code/eng-fiction-all/coha-words/sgns/\", out_dir=\"D:/google_ngrams/Vectors/histwords_coha\")\n",
    "#iterate(in_dir=\"G:/My Drive/KU/Thesis/others_code/eng-fiction-all/eng-all/sgns/\", out_dir=\"D:/google_ngrams/Vectors/histwords_engall\")\n",
    "#iterate(in_dir=\"G:/My Drive/KU/Thesis/others_code/eng-fiction-all/coha-words/sgns/\", out_dir=\"D:/google_ngrams/Vectors/histwords_coha\")\n",
    "\n"
   ]
  },
  {
   "cell_type": "code",
   "execution_count": 25,
   "id": "d26bf162",
   "metadata": {},
   "outputs": [],
   "source": [
    "vectors = np.load(\"1980-w.npy\")"
   ]
  },
  {
   "cell_type": "code",
   "execution_count": 26,
   "id": "d8247810",
   "metadata": {},
   "outputs": [
    {
     "data": {
      "text/plain": [
       "(100000, 300)"
      ]
     },
     "execution_count": 26,
     "metadata": {},
     "output_type": "execute_result"
    }
   ],
   "source": [
    "vectors.shape"
   ]
  },
  {
   "cell_type": "code",
   "execution_count": 20,
   "id": "0701cce0",
   "metadata": {},
   "outputs": [
    {
     "name": "stdout",
     "output_type": "stream",
     "text": [
      "Converting 1910-w.npy to text...\n",
      "Converting 1910.txt to word2vec...\n"
     ]
    },
    {
     "name": "stderr",
     "output_type": "stream",
     "text": [
      "C:\\Users\\ADMINI~1\\AppData\\Local\\Temp/ipykernel_19184/3027340298.py:7: DeprecationWarning: Call to deprecated `glove2word2vec` (KeyedVectors.load_word2vec_format(.., binary=False, no_header=True) loads GLoVE text vectors.).\n",
      "  _ = glove2word2vec(glove_file, tmp_file)\n"
     ]
    }
   ],
   "source": [
    "#Singe case\n",
    "os.chdir(\"D:/google_ngrams/Vectors/histwords/\")\n",
    "os.listdir()\n",
    "pickle2txt(\"1910-vocab.pkl\", \"1910-w.npy\", in_dir=\"G:/My Drive/KU/Thesis/others_code/eng-fiction-all/eng-fiction-all/sgns/\", out_dir=\"D:/google_ngrams/Vectors/histwords/\")\n",
    "txt2word2vec(\"1910.txt\", in_dir=\"D:/google_ngrams/Vectors/histwords/\", out_dir=\"D:/google_ngrams/Vectors/histwords/\")"
   ]
  },
  {
   "cell_type": "code",
   "execution_count": null,
   "id": "61a16080",
   "metadata": {},
   "outputs": [],
   "source": []
  }
 ],
 "metadata": {
  "kernelspec": {
   "display_name": "Python 3 (ipykernel)",
   "language": "python",
   "name": "python3"
  },
  "language_info": {
   "codemirror_mode": {
    "name": "ipython",
    "version": 3
   },
   "file_extension": ".py",
   "mimetype": "text/x-python",
   "name": "python",
   "nbconvert_exporter": "python",
   "pygments_lexer": "ipython3",
   "version": "3.9.7"
  }
 },
 "nbformat": 4,
 "nbformat_minor": 5
}
