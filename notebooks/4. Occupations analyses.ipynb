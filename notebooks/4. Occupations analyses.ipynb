{
 "cells": [
  {
   "cell_type": "code",
   "execution_count": 33,
   "id": "619262f0",
   "metadata": {},
   "outputs": [],
   "source": [
    "import pandas as pd\n",
    "import gensim\n",
    "from gensim.models import Word2Vec, KeyedVectors\n",
    "import gzip \n",
    "import math\n",
    "import itertools\n",
    "from time import time\n",
    "from tqdm import tqdm\n",
    "import tqdm.notebook as tq\n",
    "import os\n",
    "import pandas as pd\n",
    "import numpy as np\n",
    "import matplotlib.pyplot as plt\n",
    "from collections import OrderedDict\n",
    "import numpy as np\n",
    "import os\n",
    "import vec_tools\n",
    "import word_tools\n",
    "import statistics\n",
    "from nltk.corpus import stopwords\n",
    "import random\n",
    "import plotly.express as px\n",
    "import plotly.graph_objs as go\n",
    "from sklearn.decomposition import PCA\n",
    "import seaborn as sns"
   ]
  },
  {
   "cell_type": "markdown",
   "id": "2b5f1cc0",
   "metadata": {},
   "source": [
    "# Create/load domains"
   ]
  },
  {
   "cell_type": "code",
   "execution_count": 34,
   "id": "8e8fd99f",
   "metadata": {},
   "outputs": [],
   "source": [
    "lst_dir =  \"G:/My Drive/KU/Thesis/data/domains/\" \n",
    "domain_dic = {}\n",
    "\n",
    "garg_lists = [\"occupations1950.txt\", \"adjectives_appearance.txt\",  'adjectives_appearance.txt',\n",
    " 'adjectives_intelligencegeneral.txt', 'adjectives_otherization.txt', 'adjectives_princeton.txt',\n",
    " 'adjectives_sensitive.txt', 'adjectives_williamsbest.csv', 'adjectives_williamsbest.txt',\n",
    " 'personalitytraits_original.txt', 'occupations1950_professional.txt']\n",
    "\n",
    "for dic in garg_lists:\n",
    "    li = open(f\"G:/My Drive/KU/Thesis/data/garg/{dic}\", encoding=\"utf-8\").readlines()\n",
    "    domain_dic[dic[:-4]] = [el.strip() for el in li]\n",
    "\n",
    "wiki_lists = ['sports','music_genres','lit_genres','us_cities','uk_cities',\n",
    "               'countries','art_movs','hobbies','subcultures'] \n",
    "for lst in wiki_lists:\n",
    "    domain_dic[lst] = word_tools.load_list(f\"{lst_dir}/wiki/{lst}_wiki.txt\")\n",
    "    \n",
    "manual_lists = [ 'virtues.txt', 'vices.txt', 'genres.txt', 'emotions.txt', 'housing.txt',\n",
    " 'clothing.txt', 'white_trash.txt', 'old_rich.txt', 'new_rich.txt', 'u.txt', 'new_u.txt', 'non_u.txt',\n",
    " 'refined.txt', 'unrefined.txt']\n",
    "\n",
    "for dic in manual_lists:\n",
    "    li = open(f\"G:/My Drive/KU/Thesis/data/domains/{dic}\").readlines()\n",
    "    domain_dic[dic[:-4]] = [el.strip() for el in li]\n",
    "domain_dic.keys()\n",
    "\n",
    "domain_dic[\"goc_genres\"] = [\"hiphop\", \"rap\", \"bluegrass\", \"opera\", \"jazz\", \"techno\", \"punk\"]"
   ]
  },
  {
   "cell_type": "code",
   "execution_count": 3,
   "id": "060940dc",
   "metadata": {
    "scrolled": true
   },
   "outputs": [],
   "source": [
    "groups =['Iso_occupations.xlsx','standard_occupations_uk_incomplete.xlsx','occupations_1950_categorised.xlsx','vices_virtues.xlsx','u_non_u.xlsx','old_rich_new_rich.xlsx','emerging_traditional_genres.xlsx']\n",
    "os.chdir(\"G:/My Drive/KU/Thesis/data/domains/dicts/\")\n",
    "os.listdir()\n",
    "for group in groups: \n",
    "    domain_dic[group[:-5]] = vec_tools.load_domain_dic(f\"G:/My Drive/KU/Thesis/data/domains/dicts/{group}\")\n",
    "   "
   ]
  },
  {
   "cell_type": "code",
   "execution_count": 4,
   "id": "7a6e0e75",
   "metadata": {},
   "outputs": [],
   "source": [
    "professions = domain_dic[\"Iso_occupations\"][\"Professional\"]\n"
   ]
  },
  {
   "cell_type": "markdown",
   "id": "e5aea92c",
   "metadata": {},
   "source": [
    "# Almighty iterator"
   ]
  },
  {
   "cell_type": "code",
   "execution_count": 5,
   "id": "f4d69e20",
   "metadata": {},
   "outputs": [
    {
     "name": "stderr",
     "output_type": "stream",
     "text": [
      "C:\\ProgramData\\Anaconda3\\lib\\site-packages\\gensim\\models\\keyedvectors.py:624: RuntimeWarning: invalid value encountered in true_divide\n",
      "  return self.vectors / self.norms[..., np.newaxis]\n",
      "G:\\My Drive\\KU\\Thesis\\vec_tools.py:161: RuntimeWarning: invalid value encountered in true_divide\n",
      "  return vec/(np.sqrt(np.nansum(np.square(vec))))\n",
      "G:\\My Drive\\KU\\Thesis\\vec_tools.py:152: RuntimeWarning: invalid value encountered in arccos\n",
      "  angle = np.arccos(dot)\n"
     ]
    }
   ],
   "source": [
    "coll = \"histwords_engall\"#\"gb_12_18_02\"#\n",
    "#input_dir = f\"D:/google_ngrams/vectors/{coll}\"\n",
    "dims = [\"affluence\", \"cultivation\", \"status\", \"gender\", \"race\", \"morality\", \"education\"]\n",
    "histwords_iter = vec_tools.AllDecsIterator(coll, dims, kv=True, test=False)\n",
    "histwords_iter.iterate()"
   ]
  },
  {
   "cell_type": "code",
   "execution_count": 5,
   "id": "e441fef4",
   "metadata": {},
   "outputs": [
    {
     "name": "stderr",
     "output_type": "stream",
     "text": [
      "C:\\ProgramData\\Anaconda3\\lib\\site-packages\\gensim\\models\\keyedvectors.py:624: RuntimeWarning: invalid value encountered in true_divide\n",
      "  return self.vectors / self.norms[..., np.newaxis]\n",
      "G:\\My Drive\\KU\\Thesis\\vec_tools.py:161: RuntimeWarning: invalid value encountered in true_divide\n",
      "  return vec/(np.sqrt(np.nansum(np.square(vec))))\n",
      "G:\\My Drive\\KU\\Thesis\\vec_tools.py:152: RuntimeWarning: invalid value encountered in arccos\n",
      "  angle = np.arccos(dot)\n"
     ]
    },
    {
     "ename": "KeyboardInterrupt",
     "evalue": "",
     "output_type": "error",
     "traceback": [
      "\u001b[1;31m---------------------------------------------------------------------------\u001b[0m",
      "\u001b[1;31mKeyboardInterrupt\u001b[0m                         Traceback (most recent call last)",
      "\u001b[1;32mC:\\Users\\ADMINI~1\\AppData\\Local\\Temp/ipykernel_17256/3105783466.py\u001b[0m in \u001b[0;36m<module>\u001b[1;34m\u001b[0m\n\u001b[0;32m      3\u001b[0m \u001b[0mdims\u001b[0m \u001b[1;33m=\u001b[0m \u001b[1;33m[\u001b[0m\u001b[1;34m\"affluence\"\u001b[0m\u001b[1;33m,\u001b[0m \u001b[1;34m\"cultivation\"\u001b[0m\u001b[1;33m,\u001b[0m \u001b[1;34m\"status\"\u001b[0m\u001b[1;33m,\u001b[0m \u001b[1;34m\"gender\"\u001b[0m\u001b[1;33m,\u001b[0m \u001b[1;34m\"race\"\u001b[0m\u001b[1;33m,\u001b[0m \u001b[1;34m\"morality\"\u001b[0m\u001b[1;33m,\u001b[0m \u001b[1;34m\"education\"\u001b[0m\u001b[1;33m]\u001b[0m\u001b[1;33m\u001b[0m\u001b[1;33m\u001b[0m\u001b[0m\n\u001b[0;32m      4\u001b[0m \u001b[0mhistwords_iter\u001b[0m \u001b[1;33m=\u001b[0m \u001b[0mvec_tools\u001b[0m\u001b[1;33m.\u001b[0m\u001b[0mAllDecsIterator\u001b[0m\u001b[1;33m(\u001b[0m\u001b[0mcoll\u001b[0m\u001b[1;33m,\u001b[0m \u001b[0mdims\u001b[0m\u001b[1;33m,\u001b[0m \u001b[0mkv\u001b[0m\u001b[1;33m=\u001b[0m\u001b[1;32mTrue\u001b[0m\u001b[1;33m,\u001b[0m \u001b[0mtest\u001b[0m\u001b[1;33m=\u001b[0m\u001b[1;32mFalse\u001b[0m\u001b[1;33m)\u001b[0m\u001b[1;33m\u001b[0m\u001b[1;33m\u001b[0m\u001b[0m\n\u001b[1;32m----> 5\u001b[1;33m \u001b[0mhistwords_iter\u001b[0m\u001b[1;33m.\u001b[0m\u001b[0miterate\u001b[0m\u001b[1;33m(\u001b[0m\u001b[1;33m)\u001b[0m\u001b[1;33m\u001b[0m\u001b[1;33m\u001b[0m\u001b[0m\n\u001b[0m\u001b[0;32m      6\u001b[0m \u001b[1;33m\u001b[0m\u001b[0m\n\u001b[0;32m      7\u001b[0m \u001b[0mcoll\u001b[0m \u001b[1;33m=\u001b[0m \u001b[1;34m\"gb_12_18_02\"\u001b[0m\u001b[1;33m\u001b[0m\u001b[1;33m\u001b[0m\u001b[0m\n",
      "\u001b[1;32mG:\\My Drive\\KU\\Thesis\\vec_tools.py\u001b[0m in \u001b[0;36miterate\u001b[1;34m(self)\u001b[0m\n\u001b[0;32m    849\u001b[0m         \u001b[1;32mfor\u001b[0m \u001b[0mdec\u001b[0m\u001b[1;33m,\u001b[0m \u001b[0mwv\u001b[0m \u001b[1;32min\u001b[0m \u001b[0mself\u001b[0m\u001b[1;33m.\u001b[0m\u001b[0mwvs\u001b[0m\u001b[1;33m.\u001b[0m\u001b[0mitems\u001b[0m\u001b[1;33m(\u001b[0m\u001b[1;33m)\u001b[0m\u001b[1;33m:\u001b[0m\u001b[1;33m\u001b[0m\u001b[1;33m\u001b[0m\u001b[0m\n\u001b[0;32m    850\u001b[0m             \u001b[0mmatrix\u001b[0m \u001b[1;33m=\u001b[0m \u001b[0mwv\u001b[0m\u001b[1;33m.\u001b[0m\u001b[0mget_normed_vectors\u001b[0m\u001b[1;33m(\u001b[0m\u001b[1;33m)\u001b[0m\u001b[1;33m\u001b[0m\u001b[1;33m\u001b[0m\u001b[0m\n\u001b[1;32m--> 851\u001b[1;33m             \u001b[0mself\u001b[0m\u001b[1;33m.\u001b[0m\u001b[0mnorm_matrix\u001b[0m\u001b[1;33m[\u001b[0m\u001b[0mdec\u001b[0m\u001b[1;33m]\u001b[0m \u001b[1;33m=\u001b[0m \u001b[0mnormify_matrix\u001b[0m\u001b[1;33m(\u001b[0m\u001b[0mmatrix\u001b[0m\u001b[1;33m)\u001b[0m\u001b[1;33m\u001b[0m\u001b[1;33m\u001b[0m\u001b[0m\n\u001b[0m\u001b[0;32m    852\u001b[0m \u001b[1;33m\u001b[0m\u001b[0m\n\u001b[0;32m    853\u001b[0m             \u001b[1;32mfor\u001b[0m \u001b[0mdim\u001b[0m \u001b[1;32min\u001b[0m \u001b[0mself\u001b[0m\u001b[1;33m.\u001b[0m\u001b[0mdims\u001b[0m\u001b[1;33m:\u001b[0m\u001b[1;33m\u001b[0m\u001b[1;33m\u001b[0m\u001b[0m\n",
      "\u001b[1;32mG:\\My Drive\\KU\\Thesis\\vec_tools.py\u001b[0m in \u001b[0;36mnormify_matrix\u001b[1;34m(matrix)\u001b[0m\n\u001b[0;32m    155\u001b[0m \u001b[1;32mdef\u001b[0m \u001b[0mnormify_matrix\u001b[0m\u001b[1;33m(\u001b[0m\u001b[0mmatrix\u001b[0m\u001b[1;33m)\u001b[0m\u001b[1;33m:\u001b[0m\u001b[1;33m\u001b[0m\u001b[1;33m\u001b[0m\u001b[0m\n\u001b[0;32m    156\u001b[0m     \u001b[1;32mfor\u001b[0m \u001b[0mi\u001b[0m\u001b[1;33m,\u001b[0m \u001b[0mrow\u001b[0m \u001b[1;32min\u001b[0m \u001b[0menumerate\u001b[0m\u001b[1;33m(\u001b[0m\u001b[0mmatrix\u001b[0m\u001b[1;33m)\u001b[0m\u001b[1;33m:\u001b[0m\u001b[1;33m\u001b[0m\u001b[1;33m\u001b[0m\u001b[0m\n\u001b[1;32m--> 157\u001b[1;33m         \u001b[0mmatrix\u001b[0m\u001b[1;33m[\u001b[0m\u001b[0mi\u001b[0m\u001b[1;33m]\u001b[0m \u001b[1;33m=\u001b[0m \u001b[0mrow\u001b[0m\u001b[1;33m/\u001b[0m\u001b[0mnp\u001b[0m\u001b[1;33m.\u001b[0m\u001b[0mlinalg\u001b[0m\u001b[1;33m.\u001b[0m\u001b[0mnorm\u001b[0m\u001b[1;33m(\u001b[0m\u001b[0mrow\u001b[0m\u001b[1;33m)\u001b[0m\u001b[1;33m\u001b[0m\u001b[1;33m\u001b[0m\u001b[0m\n\u001b[0m\u001b[0;32m    158\u001b[0m     \u001b[1;32mreturn\u001b[0m \u001b[0mmatrix\u001b[0m\u001b[1;33m\u001b[0m\u001b[1;33m\u001b[0m\u001b[0m\n\u001b[0;32m    159\u001b[0m \u001b[1;33m\u001b[0m\u001b[0m\n",
      "\u001b[1;32m<__array_function__ internals>\u001b[0m in \u001b[0;36mnorm\u001b[1;34m(*args, **kwargs)\u001b[0m\n",
      "\u001b[1;32mC:\\ProgramData\\Anaconda3\\lib\\site-packages\\numpy\\linalg\\linalg.py\u001b[0m in \u001b[0;36mnorm\u001b[1;34m(x, ord, axis, keepdims)\u001b[0m\n\u001b[0;32m   2527\u001b[0m                 \u001b[0msqnorm\u001b[0m \u001b[1;33m=\u001b[0m \u001b[0mdot\u001b[0m\u001b[1;33m(\u001b[0m\u001b[0mx\u001b[0m\u001b[1;33m.\u001b[0m\u001b[0mreal\u001b[0m\u001b[1;33m,\u001b[0m \u001b[0mx\u001b[0m\u001b[1;33m.\u001b[0m\u001b[0mreal\u001b[0m\u001b[1;33m)\u001b[0m \u001b[1;33m+\u001b[0m \u001b[0mdot\u001b[0m\u001b[1;33m(\u001b[0m\u001b[0mx\u001b[0m\u001b[1;33m.\u001b[0m\u001b[0mimag\u001b[0m\u001b[1;33m,\u001b[0m \u001b[0mx\u001b[0m\u001b[1;33m.\u001b[0m\u001b[0mimag\u001b[0m\u001b[1;33m)\u001b[0m\u001b[1;33m\u001b[0m\u001b[1;33m\u001b[0m\u001b[0m\n\u001b[0;32m   2528\u001b[0m             \u001b[1;32melse\u001b[0m\u001b[1;33m:\u001b[0m\u001b[1;33m\u001b[0m\u001b[1;33m\u001b[0m\u001b[0m\n\u001b[1;32m-> 2529\u001b[1;33m                 \u001b[0msqnorm\u001b[0m \u001b[1;33m=\u001b[0m \u001b[0mdot\u001b[0m\u001b[1;33m(\u001b[0m\u001b[0mx\u001b[0m\u001b[1;33m,\u001b[0m \u001b[0mx\u001b[0m\u001b[1;33m)\u001b[0m\u001b[1;33m\u001b[0m\u001b[1;33m\u001b[0m\u001b[0m\n\u001b[0m\u001b[0;32m   2530\u001b[0m             \u001b[0mret\u001b[0m \u001b[1;33m=\u001b[0m \u001b[0msqrt\u001b[0m\u001b[1;33m(\u001b[0m\u001b[0msqnorm\u001b[0m\u001b[1;33m)\u001b[0m\u001b[1;33m\u001b[0m\u001b[1;33m\u001b[0m\u001b[0m\n\u001b[0;32m   2531\u001b[0m             \u001b[1;32mif\u001b[0m \u001b[0mkeepdims\u001b[0m\u001b[1;33m:\u001b[0m\u001b[1;33m\u001b[0m\u001b[1;33m\u001b[0m\u001b[0m\n",
      "\u001b[1;32m<__array_function__ internals>\u001b[0m in \u001b[0;36mdot\u001b[1;34m(*args, **kwargs)\u001b[0m\n",
      "\u001b[1;31mKeyboardInterrupt\u001b[0m: "
     ]
    }
   ],
   "source": [
    "coll = \"gb_12_18_02\"\n",
    "#print(eval_coha.vals)\n",
    "gb_12_iter = vec_tools.AllDecsIterator(coll, dims, kv=False, test=False)\n",
    "gb_12_iter.iterate()\n",
    "dists = gb_12_iter.stability_through_time(n = 500)\n",
    "#iterator.avg_distance(n=50)\n",
    "\n",
    "coll = \"histwords_engfic\"\n",
    "gb_12_iter = vec_tools.AllDecsIterator(coll, dims, kv=True, test=False)\n",
    "gb_12_iter.iterate()\n",
    "ef = gb_12_iter.stability_through_time(n = 500)\n",
    "#iterator.avg_distance(n=50)\n",
    "\n",
    "coll = \"histwords_coha\"\n",
    "gb_12_iter = vec_tools.AllDecsIterator(coll, dims, kv=True, test=False)\n",
    "gb_12_iter.iterate()\n",
    "co = gb_12_iter.stability_through_time(n = 500)"
   ]
  },
  {
   "cell_type": "code",
   "execution_count": 20,
   "id": "e6a615cf",
   "metadata": {},
   "outputs": [
    {
     "name": "stdout",
     "output_type": "stream",
     "text": [
      "\\begin{tabular}{lllll}\n",
      "\\toprule\n",
      "{} &              ENG\\_ALL &                GB\\_12 &             ENG\\_FIC &                 COHA \\\\\n",
      "\\midrule\n",
      "Function words &   0.08 [0.078 0.082] &   0.633 [0.626 0.64] &  0.067 [0.065 0.07] &   0.05 [0.048 0.052] \\\\\n",
      "Random words   &  0.397 [0.394 0.399] &  1.413 [1.404 1.421] &  0.248 [0.245 0.25] &  0.237 [0.235 0.239] \\\\\n",
      "\\bottomrule\n",
      "\\end{tabular}\n",
      "\n"
     ]
    }
   ],
   "source": [
    "comp = pd.concat([df.loc[\"1990\"],dists.loc[\"1990\"], ef.loc[\"1990\"],co.loc[\"1990\"]], axis=1)\n",
    "comp.columns = [\"ENG_ALL\", \"GB_12\", \"ENG_FIC\", \"COHA\"]\n",
    "comp.index = [\"Function words\", \"Random words\"]\n",
    "c = comp\n",
    "for i in range(4):\n",
    "    for j in range(2):\n",
    "        c.iloc[j, i] = str(c.iloc[j, i])[1:-1].replace(\",\", \"\")\n",
    "print(c.to_latex())"
   ]
  },
  {
   "cell_type": "code",
   "execution_count": 12,
   "id": "b68f3ec4",
   "metadata": {},
   "outputs": [],
   "source": [
    "vec_tools.to_latex(df, \"function_word_stability\")"
   ]
  },
  {
   "cell_type": "markdown",
   "id": "77066f8e",
   "metadata": {},
   "source": [
    "# Correlating with 1990 census"
   ]
  },
  {
   "cell_type": "code",
   "execution_count": 35,
   "id": "870bc6c3",
   "metadata": {},
   "outputs": [
    {
     "name": "stdout",
     "output_type": "stream",
     "text": [
      "{'Education_survey_corr': (0.4830379693677336, 2.471217502585019e-06), 'Status_survey_corr': (0.5966023356783157, 1.3464116204742447e-09), 'Affluence_survey_corr': (0.3494423433078637, 0.0009744819294407855)}\n"
     ]
    },
    {
     "name": "stderr",
     "output_type": "stream",
     "text": [
      "C:\\ProgramData\\Anaconda3\\lib\\site-packages\\gensim\\models\\keyedvectors.py:624: RuntimeWarning: invalid value encountered in true_divide\n",
      "  return self.vectors / self.norms[..., np.newaxis]\n",
      "G:\\My Drive\\KU\\Thesis\\vec_tools.py:161: RuntimeWarning: invalid value encountered in true_divide\n",
      "  return vec/(np.sqrt(np.nansum(np.square(vec))))\n"
     ]
    }
   ],
   "source": [
    "coll = \"histwords_engall\"\n",
    "decade_files = [str(1900+10*i)+'_model' for i in range(10)]\n",
    "eval_iter = vec_tools.EvalEmbeddings(dir = f\"D:/google_ngrams/Vectors/{coll}/\", files = decade_files, kv=True, dl=False)\n",
    "eval_iter.load_wv(decade_files[-1])\n",
    "\n",
    "outliers_aff = [\"Dancers and dancing teachers\", \"Musicians and music teachers\", \"Designers\", \n",
    " \"Painters, except construction or maintenance\", \"Authors\", \"Artists and art teachers\",\n",
    "\"Photographers\", \"Dentists\", \"Physicians and surgeons\", \"Policemen and detectives\", \"Sports instructors and officials\",\n",
    "           \"Lawyers and judges\", \"Airplane pilots and navigators\", \"Vetinarians\", #more questionable second round\n",
    "            \"Stock and bond salesman\",\"Sailors and deck hands\"]\n",
    "outliers_status = [\"Members of the armed services\", \"Tool makers, and die makers, and setters\", \"Painters, except construction and maintenance\"]\n",
    "\n",
    "print(eval_iter.corr_census(decade_files[-1],labels=\"wods\", outliers = outliers_aff))"
   ]
  },
  {
   "cell_type": "code",
   "execution_count": 32,
   "id": "7d8c118c",
   "metadata": {},
   "outputs": [
    {
     "name": "stderr",
     "output_type": "stream",
     "text": [
      "C:\\ProgramData\\Anaconda3\\lib\\site-packages\\seaborn\\_decorators.py:36: FutureWarning: Pass the following variables as keyword args: x, y. From version 0.12, the only valid positional argument will be `data`, and passing other arguments without an explicit keyword will result in an error or misinterpretation.\n",
      "  warnings.warn(\n"
     ]
    },
    {
     "data": {
      "image/png": "[encoded data removed]",
      "text/plain": [
       "<Figure size 436.533x269.792 with 1 Axes>"
      ]
     },
     "metadata": {},
     "output_type": "display_data"
    }
   ],
   "source": [
    "plt.rcParams['figure.figsize'] = (6.062958350629584, 3.747114333064086)\n",
    "sns.regplot(eval_iter.vals[\"Affluence_survey\"],eval_iter.vals[\"Affluence_proj\"], color=colours)\n",
    "plt.xlabel(\"Average income\",fontsize = 7)\n",
    "plt.ylabel(\"Projection on affluence dimension\",fontsize = 7)\n",
    "plt.tick_params(axis='both', which='major', labelsize=5)\n",
    "colours = cm.Dark2(np.linspace(0, 1, 7))[0]\n",
    "for i, occ in enumerate (eval_iter.vals.index):\n",
    "    if occ in outliers_aff:\n",
    "        if occ not in [\"Sports instructors and officials\",\"Sailors and deck hands\"]:\n",
    "            plt.annotate(occ, (surv[i]+50, proj[i]+0.005), fontsize = 5)\n",
    "\n",
    "plt.savefig(\"G:/My Drive/KU/Thesis/outputs/graphs/occ_aff_after.jpg\", dpi=400, bbox_inches = \"tight\")"
   ]
  },
  {
   "cell_type": "code",
   "execution_count": 24,
   "id": "887461f8",
   "metadata": {
    "scrolled": false
   },
   "outputs": [
    {
     "data": {
      "image/png": "[encoded data removed]",
      "text/plain": [
       "<Figure size 436.533x269.792 with 1 Axes>"
      ]
     },
     "metadata": {},
     "output_type": "display_data"
    }
   ],
   "source": [
    "from matplotlib import cm\n",
    "plt.style.use(\"ggplot\")\n",
    "fig, ax = plt.subplots(figsize=((6.062958350629584, 3.747114333064086)))\n",
    "surv = eval_iter.vals['Affluence_survey']\n",
    "proj = eval_iter.vals['Affluence_proj']\n",
    "#sns.scatterplot(data=eval_coha.vals,x='Affluence_survey', y=\"Affluence_proj\")\n",
    "colours = cm.Dark2(np.linspace(0, 1, 7))[0]\n",
    "plt.scatter(surv, proj, color=colours, s =5)\n",
    "plt.xlabel(\"Average income\",fontsize = 7)\n",
    "plt.ylabel(\"Projection on affluence dimension\",fontsize = 7)\n",
    "plt.tick_params(axis='both', which='major', labelsize=5)\n",
    "# Annotate label points\n",
    "\n",
    "plt.rcParams[\"font.family\"] = \"Times New Roman\"\n",
    "for i, occ in enumerate (eval_iter.vals.index):\n",
    "    if occ in outliers_aff:\n",
    "        if occ not in [\"Sports instructors and officials\",\"Sailors and deck hands\"]:\n",
    "            plt.annotate(occ, (surv[i]+50, proj[i]+0.005), fontsize = 5)\n",
    "#eval_coha.vals.plot.scatter(x=\"Affluence_survey\",y=\"Affluence_proj\")\n",
    "plt.savefig(\"G:/My Drive/KU/Thesis/outputs/graphs/occ_aff.jpg\", dpi=400, bbox_inches = \"tight\")"
   ]
  },
  {
   "cell_type": "markdown",
   "id": "162b1464",
   "metadata": {},
   "source": [
    "# Correlation with all decades"
   ]
  },
  {
   "cell_type": "code",
   "execution_count": 37,
   "id": "305e26cd",
   "metadata": {},
   "outputs": [],
   "source": [
    "def corr_census(self, model, labels=\"words\", outliers=[], table=False):\n",
    "        survey = pd.read_csv(\"G:/My Drive/KU/Thesis/data/us_census/census_1990_OCC1950.csv\", index_col = 0)\n",
    "        occ_map = pd.read_csv(\"G:/My Drive/KU/Thesis/data/garg/occupation_map.csv\", index_col=\"Occupation, 1950 basis\").to_dict()[\"Single words\"]\n",
    "                           \n",
    "        occs = {v: k for k, v in occ_map.items() if type(v) != list}\n",
    "        capitals = {\"EDUC\":\"Education\", \"PRESGL\":\"Status\", \"INCTOT\":\"Affluence\"}\n",
    "        cats = capitals.values()\n",
    "        capitals = {v: k for k, v in capitals.items()}\n",
    "\n",
    "        ant_pairs = {}\n",
    "        vals = {}\n",
    "        projs = {}\n",
    "        dims = {}\n",
    "        embed = self.models[model]\n",
    "        self.vals = {}\n",
    "\n",
    "        for cat in cats:\n",
    "            #print(domain, cat)\n",
    "            ant_pairs[cat] = pd.read_csv(f\"G:/My Drive/KU/Thesis/data/word_pairs/{cat}_antonyms_goc.csv\", header = None, names = (\"pos_ant\", \"neg_ant\"))\n",
    "            ant_pairs[cat] = ant_pairs[cat].rename(columns= {\"pos_ant\":ant_pairs[cat].iloc[0,0],\"neg_ant\":ant_pairs[cat].iloc[0,1]})\n",
    "            #prepare dictionaries for survey & projection values\n",
    "            vals[cat + \"_survey\"] = {}\n",
    "            vals[cat + \"_proj\"] = {}\n",
    "            #calculate dimensions from antonym pairs\n",
    "            dims[cat] = create_dim_avg(embed, ant_pairs[cat])\n",
    "            #project embeddings onto dimension\n",
    "            projs[cat] = self.proj_dim(model, dims[cat])\n",
    "            #iterate through words\n",
    "            not_in_vocab = []\n",
    "            nan = False\n",
    "            for index, row in survey.iterrows():\n",
    "                #print(index, row)\n",
    "                try:\n",
    "                    if row.name in outliers:\n",
    "                        continue\n",
    "                    #print( occ_map[row.name])\n",
    "                    occ_spl = occ_map[row.name].lower().split()\n",
    "                #    print(occ_spl)\n",
    "                    w_projs = []\n",
    "                    for w in occ_spl:\n",
    "                        if w == \"nan\":\n",
    "                            continue\n",
    "                        if w[-1] == \",\":\n",
    "                            w = w[:-1]\n",
    "                        try:\n",
    "                            ind = embed.get_index(w)\n",
    "                            proj = projs[cat][ind]\n",
    "                        except: \n",
    "                            continue\n",
    "                        if proj != proj:\n",
    "                            continue\n",
    "                        w_projs.append(proj)\n",
    "                    #    print(row.name, w_projs)\n",
    "                        val = np.mean(w_projs)\n",
    "                        #add all to DF\n",
    "                        if labels == \"words\":\n",
    "                            label =  occ_map[row.name].title()\n",
    "                        else:\n",
    "                            label =  row.name\n",
    "                        vals[cat + \"_survey\"][label] = row[capitals[cat] + \"_mean\"]\n",
    "                        vals[cat + \"_proj\"][label] = val\n",
    "                except Exception as e:\n",
    "                    pass\n",
    "                    #print(e)\n",
    "                    #not_in_vocab.append(word)\n",
    "\n",
    "         #   print(f\"{not_in_vocab} not in embeddings vocab!\")\n",
    "        self.vals = pd.DataFrame(vals)\n",
    "        corrs = {}\n",
    "        table_corrs = {}\n",
    "        for cat in cats:\n",
    "           # print(self.vals[domain][cat + \"_survey\"], self.vals[domain][cat + \"_proj\"])\n",
    "           # print(self.vals[cat + \"_survey\"], self.vals[cat + \"_proj\"])\n",
    "            corrs[cat + \"_survey_corr\"] = pearsonr(self.vals[cat + \"_survey\"], self.vals[cat + \"_proj\"])\n",
    "            pear = pearsonr(self.vals[cat + \"_survey\"], self.vals[cat + \"_proj\"])\n",
    "            v = round(pear[0],3)\n",
    "            if pear[1] < 0.001:\n",
    "                v = str(v) + \"***\"\n",
    "            elif pear[1] < 0.01:\n",
    "                v = str(v) + \"**\"\n",
    "            elif pear[1] < 0.05:\n",
    "                v = str(v) + \"*\"\n",
    "            else:\n",
    "                v = str(v)\n",
    "            table_corrs[cat.title()] = v\n",
    "            #corrs[cat + \"_survey_corr\"] = self.vals[[cat + \"_survey\", cat + \"_proj\"]].corr(method=\"pearson\").iloc[0,1]\n",
    "        if table:\n",
    "            return table_corrs\n",
    "        return corrs\n"
   ]
  },
  {
   "cell_type": "code",
   "execution_count": 44,
   "id": "13c5d5b1",
   "metadata": {},
   "outputs": [
    {
     "name": "stderr",
     "output_type": "stream",
     "text": [
      "G:\\My Drive\\KU\\Thesis\\vec_tools.py:161: RuntimeWarning: invalid value encountered in true_divide\n",
      "  return vec/(np.sqrt(np.nansum(np.square(vec))))\n",
      "C:\\ProgramData\\Anaconda3\\lib\\site-packages\\gensim\\models\\keyedvectors.py:624: RuntimeWarning: invalid value encountered in true_divide\n",
      "  return self.vectors / self.norms[..., np.newaxis]\n",
      "G:\\My Drive\\KU\\Thesis\\vec_tools.py:161: RuntimeWarning: invalid value encountered in true_divide\n",
      "  return vec/(np.sqrt(np.nansum(np.square(vec))))\n",
      "C:\\ProgramData\\Anaconda3\\lib\\site-packages\\gensim\\models\\keyedvectors.py:624: RuntimeWarning: invalid value encountered in true_divide\n",
      "  return self.vectors / self.norms[..., np.newaxis]\n",
      "G:\\My Drive\\KU\\Thesis\\vec_tools.py:161: RuntimeWarning: invalid value encountered in true_divide\n",
      "  return vec/(np.sqrt(np.nansum(np.square(vec))))\n",
      "C:\\ProgramData\\Anaconda3\\lib\\site-packages\\gensim\\models\\keyedvectors.py:624: RuntimeWarning: invalid value encountered in true_divide\n",
      "  return self.vectors / self.norms[..., np.newaxis]\n",
      "G:\\My Drive\\KU\\Thesis\\vec_tools.py:161: RuntimeWarning: invalid value encountered in true_divide\n",
      "  return vec/(np.sqrt(np.nansum(np.square(vec))))\n",
      "C:\\ProgramData\\Anaconda3\\lib\\site-packages\\gensim\\models\\keyedvectors.py:624: RuntimeWarning: invalid value encountered in true_divide\n",
      "  return self.vectors / self.norms[..., np.newaxis]\n",
      "G:\\My Drive\\KU\\Thesis\\vec_tools.py:161: RuntimeWarning: invalid value encountered in true_divide\n",
      "  return vec/(np.sqrt(np.nansum(np.square(vec))))\n",
      "C:\\ProgramData\\Anaconda3\\lib\\site-packages\\gensim\\models\\keyedvectors.py:624: RuntimeWarning: invalid value encountered in true_divide\n",
      "  return self.vectors / self.norms[..., np.newaxis]\n"
     ]
    },
    {
     "name": "stdout",
     "output_type": "stream",
     "text": [
      "\\begin{tabular}{llllll}\n",
      "\\toprule\n",
      "{} &      1950 &      1960 &      1970 &      1980 &      1990 \\\\\n",
      "\\midrule\n",
      "Education &   0.363** &    0.272* &  0.427*** &  0.383*** &  0.477*** \\\\\n",
      "Status    &  0.445*** &  0.589*** &  0.583*** &  0.614*** &  0.585*** \\\\\n",
      "Affluence &     0.167 &     0.107 &  0.382*** &   0.317** &     0.156 \\\\\n",
      "\\bottomrule\n",
      "\\end{tabular}\n",
      "\n"
     ]
    }
   ],
   "source": [
    "decade_files = [str(1900+10*i)+'_model' for i in range(10)]\n",
    "decade_dic = {str(1950+10*i):str(1900+10*i) +'_model' for i in range(5)}\n",
    "coll = \"histwords_engall\"\n",
    "eval_iter = vec_tools.EvalEmbeddings(dir = f\"D:/google_ngrams/Vectors/{coll}/\", files = decade_files, kv=True, dl=False)\n",
    "census_corrs = {}\n",
    "for dec, model in decade_dic.items():\n",
    "    eval_iter.load_wv(model)\n",
    "    census_corrs[dec] = eval_iter.corr_census(model, labels=\"wors\", outliers=outliers_aff, table=True)\n",
    "print(pd.DataFrame(census_corrs).to_latex())"
   ]
  },
  {
   "cell_type": "markdown",
   "id": "5d12986b",
   "metadata": {},
   "source": [
    "# PCA"
   ]
  },
  {
   "cell_type": "code",
   "execution_count": 22,
   "id": "3ef43c68",
   "metadata": {
    "scrolled": true
   },
   "outputs": [],
   "source": [
    "wv1990 = histwords_iter.wvs[\"1990\"]\n",
    "dic = domain_dic[\"Iso_occupations\"]\n",
    "topns = [len(val) for key, val in dic.items()] #amount in each list\n",
    "sims = []\n",
    "centroids = []\n",
    "for key, val in dic.items():\n",
    "    sims.extend(val)\n",
    "    centroids.append(key)\n",
    "#vec_tools.display_pca_scatterplot_3D(model=wv1990, similars=False, user_input=centroids, words=sims, topns=topns)"
   ]
  },
  {
   "cell_type": "code",
   "execution_count": null,
   "id": "d8c32c9e",
   "metadata": {
    "scrolled": true
   },
   "outputs": [],
   "source": [
    "vec_tools.display_pca_scatterplot_2D(model=wv1990, similars=False, user_input=centroids, words=sims, topns=topns)"
   ]
  },
  {
   "cell_type": "code",
   "execution_count": null,
   "id": "0b20f15d",
   "metadata": {},
   "outputs": [],
   "source": [
    "vec_tools.display_pca_scatterplot_3D(model=wv1990, similars=False, user_input=centroids, words=sims, topns=topns)"
   ]
  },
  {
   "cell_type": "code",
   "execution_count": 15,
   "id": "24d67534",
   "metadata": {},
   "outputs": [],
   "source": [
    "from matplotlib import cm\n",
    "def chart_project_dict(proj_1, p1_label, proj_2, p2_label, title, domain_dic, wv, dim_1_span, dim_2_span, undesire=[], no = [],show=True):\n",
    "    inds = []\n",
    "    projs = {cat: {\"dim_1\": {}, \"dim_2\": {}} for cat in domain_dic.keys()}\n",
    "    means = {cat: {\"dim_1\": [], \"dim_2\": []} for cat in domain_dic.keys()}\n",
    "  #  means[\"General\"] = {\"dim_1\": [0], \"dim_2\": [0]}\n",
    "   # projs[\"General\"] = {\"dim_1\": [0], \"dim_2\": [0]}\n",
    "\n",
    "    for cat, lst in domain_dic.items():\n",
    "        for word in lst:\n",
    "            if word.lower() in no:\n",
    "                continue\n",
    "            try:\n",
    "                ind = wv.get_index(word.lower())\n",
    "                inds.append(ind)\n",
    "                val1, val2 = proj_1[ind], proj_2[ind]\n",
    "                means[cat][\"dim_1\"].append(val1)\n",
    "                means[cat][\"dim_2\"].append(val2)\n",
    "                #projs = (val1, val2)\n",
    "                projs[cat][\"dim_1\"][word] = val1\n",
    "                projs[cat][\"dim_2\"][word] = val2\n",
    "                \n",
    "            except Exception as e:\n",
    "                continue\n",
    "   \n",
    "    for cat in means.keys():\n",
    "        means[cat][\"dim_1\"] = statistics.mean(means[cat][\"dim_1\"])\n",
    "        means[cat][\"dim_2\"] = statistics.mean(means[cat][\"dim_2\"])\n",
    "    #means[\"General\"][\"dim_1\"] = statistics.mean([means[cat][\"dim_1\"] for cat in means.keys() if cat != \"General\"])\n",
    "    #means[\"General\"][\"dim_2\"] = statistics.mean([means[cat][\"dim_2\"] for cat in means.keys() if cat != \"General\"])\n",
    "\n",
    "    #return projs\n",
    "    plt.style.use(\"ggplot\")\n",
    "    plt.rcParams[\"font.family\"] = \"Times New Roman\"\n",
    "\n",
    "    colours = list(cm.Dark2(np.linspace(0, 1, 7))) + [\"skyblue\", \"rosybrown\", \"khaki\", \"black\"]\n",
    "    #colours = {i: colour[\"color\"] for i, colour in enumerate(plt.rcParams['axes.prop_cycle'])}\n",
    "    #colours = [\"red\", \"yellow\", \"blue\", \"orange\", \"green\", \"purple\", \"teal\", \"#CD9575\", \"#665D1E\", \"#915C83\", \"#841B2D\", \"#C46210\", \"#9966CC\", \"#0D98BA\", \"#4D1A7F\", \"#003153\"]\n",
    "    fig, ax = plt.subplots(figsize=((6.062958350629584, 3.747114333064086)))\n",
    "    ax.set_xlabel(p1_label, fontsize=7)\n",
    "    ax.set_ylabel(p2_label, fontsize=7)\n",
    "    ax.set_xlim(left=dim_1_span[0], right=dim_1_span[1])\n",
    "    ax.set_ylim(bottom=dim_2_span[0], top=dim_2_span[1])\n",
    "    x = ax.axvline(x=0, c=\"silver\", clip_on=False, linewidth=1)#, label=\"x=0\")\n",
    "    y = ax.axhline(y=0, c=\"silver\", clip_on=False, linewidth=1)#, label=\"y=0\")\n",
    "    x.set_clip_on(False)\n",
    "    y.set_clip_on(False)\n",
    "    ax.tick_params(axis='x',labelsize=6, zorder=1)\n",
    "    ax.tick_params(axis='y',labelsize=6, zorder=1)\n",
    "    #ax.axvline(x=means[\"General\"][\"dim_1\"], c=\"silver\")#, label=\"x=0\")\n",
    "    #ax.axhline(y=means[\"General\"][\"dim_2\"], c=\"silver\")#, label=\"y=0\")\n",
    "    ax\n",
    "    i = 0\n",
    "    for cat, dic in projs.items():\n",
    "        ax.scatter(means[cat][\"dim_1\"], means[cat][\"dim_2\"], marker = \"o\", s=50, color = colours[i])\n",
    "        ax.annotate(text= \"\", xy=(means[cat][\"dim_1\"], means[cat][\"dim_2\"]), zorder=2, size = 5,\n",
    "                    xytext= (3,-8), textcoords=\"offset points\", style=\"italic\" )\n",
    "        df = pd.DataFrame(dic)\n",
    "        ax.scatter(df.loc[:, \"dim_1\"], df.loc[:, \"dim_2\"], clip_on=True, label=cat, s=25, marker=\"o\", zorder=2, alpha= 0.8, color=colours[i])\n",
    "        for idx, row in df.iterrows():\n",
    "            if row.name.lower() in undesire:\n",
    "                continue\n",
    "            ax.annotate(text=row.name.capitalize(), xy=(row[\"dim_1\"], row[\"dim_2\"]), xytext= (3,-5), size=5, textcoords=\"offset points\" )\n",
    "        i += 1\n",
    "    ax.legend(prop={'size': 5})\n",
    "    plt.savefig(title, format=\"png\")\n",
    "    if show == False:\n",
    "        plt.clf()"
   ]
  },
  {
   "cell_type": "code",
   "execution_count": 17,
   "id": "24c72696",
   "metadata": {},
   "outputs": [
    {
     "name": "stdout",
     "output_type": "stream",
     "text": [
      "dict_keys(['Managers', 'Professional', 'Technicians and associate professionals', 'Clerical support workers', 'Service and sales workers', 'Skilled agricultural, forestry and fishery workers', 'Craft and related trades ', 'Plant and machine operators, and assemblers', 'Elementary occupations', 'Armed forces occupations'])\n"
     ]
    },
    {
     "data": {
      "image/png": "[encoded data removed]",
      "text/plain": [
       "<Figure size 436.533x269.792 with 1 Axes>"
      ]
     },
     "metadata": {},
     "output_type": "display_data"
    }
   ],
   "source": [
    "wv = histwords_iter.wvs[\"1990\"]\n",
    "print(domain_dic[\"Iso_occupations\"].keys())\n",
    "undesire = [\"professional\", \"commander\", \"bartender\",\"operator\", \"mathematician\",\"janitor\", \"builder\",\"supervisor\", \"electrician\", \"operator\",\"auctioneer\", \"corporal\", \"toolmaker\",\"trapper\" \"surveyor\", \"helper\",\"trades\",\"teacher\", \"broker\", \"coach\", \"brigadier\", \"beautician\", \"sergeant\", \"surgeon\",\"librarian\", \"administrator\", \"programmer\", \"weaver\", \"nurse\"]\n",
    "no = [\"professional\"]\n",
    "chart_project_dict(proj_1=histwords_iter.projs[\"1990\"][\"affluence\"],\n",
    "                                    p1_label=\"(-) <----- Affluence -----> (+)\",\n",
    "                                    proj_2=histwords_iter.projs[\"1990\"][\"cultivation\"],\n",
    "                                    p2_label=\"(-) <----- Cultivation -----> (+)\",\n",
    "                                    title=\"Professions\",\n",
    "                                    domain_dic=domain_dic[\"Iso_occupations\"],\n",
    "                                    undesire=undesire,\n",
    "                                    wv=wv,\n",
    "                                    no = no,\n",
    "                                    show=True,\n",
    "                                    dim_1_span=(-.2,.2),\n",
    "                                    dim_2_span= (-.2,.2)\n",
    "                            )\n",
    "plt.savefig(\"G:/My Drive/KU/Thesis/outputs/graphs/iso_occs.jpg\", dpi=400, bbox_inches = \"tight\")"
   ]
  },
  {
   "cell_type": "code",
   "execution_count": 14,
   "id": "c431b870",
   "metadata": {},
   "outputs": [
    {
     "data": {
      "image/png": "[encoded data removed]",
      "text/plain": [
       "<Figure size 1080x720 with 1 Axes>"
      ]
     },
     "metadata": {},
     "output_type": "display_data"
    }
   ],
   "source": [
    "vec_tools.chart_project(proj_1=histwords_iter.projs[\"1990\"][\"affluence\"], \n",
    "                                    p1_label=\"affluence\", \n",
    "                                    proj_2=histwords_iter.projs[\"1990\"][\"cultivation\"], \n",
    "                                    p2_label=\"cultivation\",\n",
    "                                    title=\"Professions\", \n",
    "                                    word_list=professions, \n",
    "                                    wv=wv, \n",
    "                                    show=True,\n",
    "                                    dim_1_span=(-.2,.2),\n",
    "                                    dim_2_span= (-.2,.2)\n",
    "                            )"
   ]
  },
  {
   "cell_type": "markdown",
   "id": "74996e23",
   "metadata": {},
   "source": [
    "# 1900-1990 comparison"
   ]
  },
  {
   "cell_type": "code",
   "execution_count": null,
   "id": "1c86a726",
   "metadata": {},
   "outputs": [],
   "source": [
    "!pip install -U kaleido"
   ]
  },
  {
   "cell_type": "code",
   "execution_count": null,
   "id": "3905c87b",
   "metadata": {},
   "outputs": [],
   "source": [
    "#line graph\n",
    "word_list = domain_dic[\"occupations1950\"][:7]\n",
    "word_projs = {word: {} for word in word_list}\n",
    "year_1, year_2 = [\"1900\", \"1990\"]\n",
    "dim = \"affluence\"\n",
    "\n",
    "for dec in [year_1, year_2]:\n",
    "    for word in word_list:\n",
    "        ind = self.wvs[dec].get_index(word.lower())\n",
    "        proj = self.projs[dec][dim][ind]\n",
    "        word_projs[word][dec] = proj\n",
    "df = pd.DataFrame(word_projs)\n",
    "plt.style.use(\"ggplot\")\n",
    "plt.rcParams[\"figure.figsize\"] = (10,5)\n",
    "df.plot.line()\n",
    "#df.unstack()"
   ]
  },
  {
   "cell_type": "code",
   "execution_count": null,
   "id": "5adb351c",
   "metadata": {},
   "outputs": [],
   "source": [
    "#polar graph *NEEDS GRADIATION of colour\n",
    "import plotly.express as px\n",
    "px.line_polar(df, r=\"frequency\", theta=\"direction\", color=\"strength\", line_close=True,\n",
    "                    color_discrete_sequence=px.colors.sequential.Plasma_r,\n",
    "                    template=\"plotly_dark\",)"
   ]
  }
 ],
 "metadata": {
  "kernelspec": {
   "display_name": "Python 3 (ipykernel)",
   "language": "python",
   "name": "python3"
  },
  "language_info": {
   "codemirror_mode": {
    "name": "ipython",
    "version": 3
   },
   "file_extension": ".py",
   "mimetype": "text/x-python",
   "name": "python",
   "nbconvert_exporter": "python",
   "pygments_lexer": "ipython3",
   "version": "3.9.7"
  }
 },
 "nbformat": 4,
 "nbformat_minor": 5
}
