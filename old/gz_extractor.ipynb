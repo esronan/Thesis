{
 "cells": [
  {
   "cell_type": "code",
   "execution_count": null,
   "id": "88fe5880",
   "metadata": {},
   "outputs": [],
   "source": [
    "import os\n",
    "import gzip\n",
    "import shutil\n",
    "os.chdir(\"D:\\google_ngrams\\gb_12_processed_3\")\n",
    "files = os.listdir()\n",
    "for fil in files[1:]:\n",
    "    with gzip.open(fil, \"rb\") as fil_in:\n",
    "        with gzip.open(fil[:-2] + \"txt\", \"wb\") as fil_out:\n",
    "            shutil.copyfileobj(fil_in, fil_out)"
   ]
  }
 ],
 "metadata": {
  "kernelspec": {
   "display_name": "Python 3 (ipykernel)",
   "language": "python",
   "name": "python3"
  },
  "language_info": {
   "codemirror_mode": {
    "name": "ipython",
    "version": 3
   },
   "file_extension": ".py",
   "mimetype": "text/x-python",
   "name": "python",
   "nbconvert_exporter": "python",
   "pygments_lexer": "ipython3",
   "version": "3.9.7"
  }
 },
 "nbformat": 4,
 "nbformat_minor": 5
}
